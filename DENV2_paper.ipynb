{
 "cells": [
  {
   "cell_type": "code",
   "execution_count": null,
   "id": "69ce9457",
   "metadata": {
    "vscode": {
     "languageId": "r"
    }
   },
   "outputs": [],
   "source": [
    "library(ggtree)\n",
    "library(ape)\n",
    "library(BiocManager)\n",
    "library(dplyr)\n",
    "library(stringr)\n",
    "library(tidyverse)\n",
    "library(IRdisplay)\n",
    "library(readr)\n",
    "library(caret)\n",
    "library(randomForest)\n",
    "library(tibble)\n",
    "library(ggplot2)\n",
    "library (pheatmap)\n",
    "library(dplyr)\n",
    "library(RColorBrewer)\n"
   ]
  },
  {
   "cell_type": "code",
   "execution_count": null,
   "id": "0dd76019",
   "metadata": {
    "vscode": {
     "languageId": "r"
    }
   },
   "outputs": [],
   "source": [
    "SL_E <- read.csv('/Users/dinukaariyaratne/Library/Mobile Documents/com~apple~CloudDocs/Desktop/PhD USJP/PhD_Thesis/DENV2 paper/SL_E.csv')\n",
    "ALL_E <- read.csv('/Users/dinukaariyaratne/Library/Mobile Documents/com~apple~CloudDocs/Desktop/PhD USJP/PhD_Thesis/DENV2 paper/ALLE_II_F1.1.csv')\n",
    "SL_NS1 <- read.csv('/Users/dinukaariyaratne/Library/Mobile Documents/com~apple~CloudDocs/Desktop/PhD USJP/PhD_Thesis/DENV2 paper/SL_DENV2_NS1.csv')\n",
    "ALL_NS1 <- read.csv('/Users/dinukaariyaratne/Library/Mobile Documents/com~apple~CloudDocs/Desktop/PhD USJP/PhD_Thesis/DENV2 paper/ALLNS1_II_F1.1.csv')"
   ]
  },
  {
   "cell_type": "code",
   "execution_count": null,
   "id": "aa6dd018",
   "metadata": {
    "vscode": {
     "languageId": "r"
    }
   },
   "outputs": [],
   "source": [
    "# Lolipop plot of All II_F1.1 E mutations and occurence frequency\n",
    "#--- Defining E Gene Domains and Colors (using your provided info) ---\n",
    "E_domains_df <- tibble(\n",
    "  domain_name_E = c(\"Domain Ia\", \"Domain Ib\", \"Domain Ic\", \"Fusion loop a\", \"Domain IIa\", \"Domain IIb\", \"Fusion loop b\", \"Domain III\", \"Stem\", \"Transmembrane\"),\n",
    "  start = c( 1, 131, 271, 70,  52, 192, 242, 299, 395, 450), # Corrected Vector Length\n",
    "  end   = c(52, 192, 299, 82, 131, 271, 248, 394, 449, 495)  # Corrected Vector Length\n",
    "\n",
    ")\n",
    "\n",
    "domain_colors_E <- c(\n",
    "  \"Domain Ia\" = \"#e4fa05\", \"Domain Ib\" = \"#fa8e06\", \"Domain Ic\" = \"#f4ee51\",\n",
    "  \"Fusion loop a\" =\"#8ef513\", \"Domain IIa\" = \"#05a8fa\", \"Domain IIb\" = \"#132cf5\",\n",
    "  \"Domain III\" = \"#e705fa\", \"Fusion loop b\" = \"#05fa57\", \"Stem\" =\"#f4b4f3\",\n",
    "  \"Transmembrane\" = \"#f33229\"\n",
    ")\n",
    "\n",
    "# Ordering the domains for the legend\n",
    "correct_domain_order_E <- E_domains_df$domain_name_E\n",
    "E_domains_ordered_df <- E_domains_df %>%\n",
    "  mutate(domain_name_E = factor(domain_name_E, levels = correct_domain_order_E))\n",
    "\n",
    "#All E mutations lollipop plot\n",
    "E_lollipop_plot <- ggplot(ALL_E, aes(x = position, y = percentage)) +\n",
    "  \n",
    "  # --- Draw the domain bar at the bottom ---\n",
    "  # ymin and ymax are FIXED parameters, not aesthetics.\n",
    "  geom_rect(\n",
    "    data = E_domains_ordered_df,\n",
    "    aes(xmin = start, xmax = end, fill = domain_name_E), # Only aesthetics that map to data columns \n",
    "    ymin = -10, ymax = 0,                               # Fixed parameters are outside aes()\n",
    "    inherit.aes = FALSE,\n",
    "    alpha = 0.8 # Increased alpha slightly for better visibility\n",
    "  ) +\n",
    "  \n",
    "  \n",
    "  geom_hline(yintercept = 0, color = \"gray40\") +\n",
    "  geom_segment(aes(xend = position, yend = 0), linewidth = 0.8) +\n",
    "  geom_point(aes(size = percentage), color = \"black\", fill = \"white\", shape = 21, stroke = 1.2) +\n",
    "\n",
    "\n",
    "  # The label is now mapped to the domain_name_E column.\n",
    "  geom_text(\n",
    "    data = E_domains_ordered_df,\n",
    "    aes(x = start + (end - start) / 2, y = -5, label = \" \"), # y is centered in the bar\n",
    "    inherit.aes = FALSE,\n",
    "    size = 2.5, angle = 90, # Rotated for better fit\n",
    "    color = \"black\", check_overlap = TRUE\n",
    "  ) +\n",
    "  \n",
    "  # Scales \n",
    "  scale_size_continuous(range = c(2, 12), name = \"Occurrence (%)\") +\n",
    "  scale_fill_manual(values = domain_colors_E, name = \"E Protein Domain\") +\n",
    "  scale_x_continuous(limits = c(-50, 550), name = \"Amino Acid Position (1-495)\", expand = c(0,0)) +\n",
    "  scale_y_continuous(name = \"Mutation Occurrence (%)\", limits = c(-10, 105), expand = c(0, 0)) +\n",
    "  \n",
    "  # Labs \n",
    "  labs(\n",
    "    title = \"E Gene Mutation Hotspots in all DENV2 II_F1.1\",\n",
    "    subtitle = \"Frequency and position of non-synonymous mutations\"\n",
    "  ) +\n",
    "  \n",
    "  # Theming and Legend Fix\n",
    "  theme_classic(base_size = 14) +\n",
    "  theme(\n",
    "    panel.grid.major.y = element_line(color = \"gray85\", linetype = \"dashed\"),\n",
    "    axis.line.x = element_line(),\n",
    "    plot.title.position = \"plot\",\n",
    "    legend.position = \"right\"\n",
    "  ) +\n",
    "  \n",
    "  # --- legend transparency ---\n",
    "  guides(fill = guide_legend(override.aes = list(alpha = 0.8)))\n",
    "\n",
    "\n",
    "print(E_lollipop_plot)\n",
    "\n",
    "# Save the plot\n",
    "ggsave(\n",
    "  \"E_hotspots_IIF1.1.png\",\n",
    "  plot = E_lollipop_plot, width = 12, height = 7, dpi = 600\n",
    ")\n"
   ]
  },
  {
   "cell_type": "code",
   "execution_count": null,
   "id": "854b9e98",
   "metadata": {
    "vscode": {
     "languageId": "r"
    }
   },
   "outputs": [],
   "source": [
    "# Lolipop plot of SL E mutations and occurence frequency\n",
    "#--- Defining E Gene Domains and Colors (using your provided info) ---\n",
    "E_domains_df_sl <- tibble(\n",
    "  domain_name_E_sl = c(\"Domain Ia\", \"Domain Ib\", \"Domain Ic\", \"Fusion loop a\", \"Domain IIa\", \"Domain IIb\", \"Fusion loop b\", \"Domain III\", \"Stem\", \"Transmembrane\"),\n",
    "  start = c( 1, 131, 271, 70,  52, 192, 242, 299, 395, 450), # Corrected Vector Length\n",
    "  end   = c(52, 192, 299, 82, 131, 271, 248, 394, 449, 495)  # Corrected Vector Length\n",
    "\n",
    ")\n",
    "\n",
    "domain_colors_E_sl <- c(\n",
    "  \"Domain Ia\" = \"#e4fa05\", \"Domain Ib\" = \"#fa8e06\", \"Domain Ic\" = \"#f4ee51\",\n",
    "  \"Fusion loop a\" =\"#8ef513\", \"Domain IIa\" = \"#05a8fa\", \"Domain IIb\" = \"#132cf5\",\n",
    "  \"Domain III\" = \"#e705fa\", \"Fusion loop b\" = \"#05fa57\", \"Stem\" =\"#f4b4f3\",\n",
    "  \"Transmembrane\" = \"#f33229\"\n",
    ")\n",
    "\n",
    "# Ordering the domains for the legend\n",
    "correct_domain_order_Esl <- E_domains_df_sl$domain_name_E_sl\n",
    "E_domains_ordered_dfsl <- E_domains_df_sl %>%\n",
    "  mutate(domain_name_E_sl = factor(domain_name_E_sl, levels = correct_domain_order_Esl))\n",
    "\n",
    "#All E mutations lollipop plot\n",
    "Esl_lollipop_plot <- ggplot(SL_E, aes(x = position, y = percentage)) +\n",
    "  \n",
    "  # --- Draw the domain bar at the bottom ---\n",
    "  # ymin and ymax are FIXED parameters, not aesthetics.\n",
    "  geom_rect(\n",
    "    data = E_domains_ordered_dfsl,\n",
    "    aes(xmin = start, xmax = end, fill = domain_name_E_sl), # Only aesthetics that map to data columns \n",
    "    ymin = -10, ymax = 0,                               # Fixed parameters are outside aes()\n",
    "    inherit.aes = FALSE,\n",
    "    alpha = 0.8 # Increased alpha slightly for better visibility\n",
    "  ) +\n",
    "  \n",
    "  \n",
    "  geom_hline(yintercept = 0, color = \"gray40\") +\n",
    "  geom_segment(aes(xend = position, yend = 0), linewidth = 0.8) +\n",
    "  geom_point(aes(size = percentage), color = \"black\", fill = \"white\", shape = 21, stroke = 1.2) +\n",
    "\n",
    "\n",
    "  # The label is now mapped to the domain_name_E column.\n",
    "  geom_text(\n",
    "    data = E_domains_ordered_dfsl,\n",
    "    aes(x = start + (end - start) / 2, y = -5, label = \" \"), # y is centered in the bar\n",
    "    inherit.aes = FALSE,\n",
    "    size = 2.5, angle = 90, # Rotated for better fit\n",
    "    color = \"black\", check_overlap = TRUE\n",
    "  ) +\n",
    "  \n",
    "  # Scales \n",
    "  scale_size_continuous(range = c(2, 12), name = \"Occurrence (%)\") +\n",
    "  scale_fill_manual(values = domain_colors_E_sl, name = \"E Protein Domain\") +\n",
    "  scale_x_continuous(limits = c(-50, 550), name = \"Amino Acid Position (1-495)\", expand = c(0,0)) +\n",
    "  scale_y_continuous(name = \"Mutation Occurrence (%)\", limits = c(-10, 105), expand = c(0, 0)) +\n",
    "  \n",
    "  # Labs \n",
    "  labs(\n",
    "    title = \"E Gene Mutation Hotspots in all Sri Lankan DENV2\",\n",
    "    subtitle = \"Frequency and position of non-synonymous mutations\"\n",
    "  ) +\n",
    "  \n",
    "  # Theming and Legend Fix\n",
    "  theme_classic(base_size = 14) +\n",
    "  theme(\n",
    "    panel.grid.major.y = element_line(color = \"gray85\", linetype = \"dashed\"),\n",
    "    axis.line.x = element_line(),\n",
    "    plot.title.position = \"plot\",\n",
    "    legend.position = \"right\"\n",
    "  ) +\n",
    "  \n",
    "  # --- legend transparency ---\n",
    "  guides(fill = guide_legend(override.aes = list(alpha = 0.8)))\n",
    "\n",
    "\n",
    "print(Esl_lollipop_plot)\n",
    "# Save the plot\n",
    "ggsave(\n",
    "  \"E_hotspots_SL.png\",\n",
    "  plot = Esl_lollipop_plot, width = 12, height = 7, dpi = 600\n",
    ")"
   ]
  },
  {
   "cell_type": "code",
   "execution_count": null,
   "id": "e7613a2d",
   "metadata": {
    "vscode": {
     "languageId": "r"
    }
   },
   "outputs": [],
   "source": [
    "#lollipop plot of all II_F1.1 NS1 mutation occurence and frequency\n",
    "# --- Defining NS1 Domains with specific Y-coordinates for the bar ---\n",
    "ns1_domains_df <- tibble(\n",
    "  domain_name_1 = c(\"Beta-roll\",\"Wing connector-1\",\"Wing domain\", \"Wing connector-2\", \"Beta-ladder\",\"Spaghetti loop\", \"C-Terminus\"),\n",
    "  start = c( 1,30,30,152,181,219,278),\n",
    "  end =   c(29,37,180,180,352,279,352 ),\n",
    "  # --- Define the y-range for the bar ---\n",
    "  ymin = -8,\n",
    "  ymax = -1\n",
    ")\n",
    "\n",
    "domain_colors_1 <- c(\n",
    "  \"Beta-roll\" = \"#a6cee3\", \"Wing connector-1\" = \"#a56aed\", \"Wing domain\" = \"#de5ef2\",\n",
    "  \"Wing connector-2\" = \"#36f2e7\", \"Beta-ladder\"  = \"#f32957\", \"Spaghetti loop\" =\"#f4e709\",\n",
    "  \"C-Terminus\" = \"#0647f4\"\n",
    ")\n",
    "\n",
    "correct_domain_order_1 <- ns1_domains_df$domain_name_1\n",
    "ns1_domains_ordered_df_1 <- ns1_domains_df %>%\n",
    "  mutate(domain_name_1 = factor(domain_name_1, levels = correct_domain_order_1))\n",
    "\n",
    "\n",
    "# --- Step 4: Build the plot with the domain bar ---\n",
    "ns1_plot_bar <- ggplot(ALL_NS1, aes(x = position, y = percentage)) +\n",
    "  \n",
    "  # --- CHANGE HERE: The rectangles are now drawn as a thin bar at the bottom ---\n",
    "  geom_rect(\n",
    "    data = ns1_domains_ordered_df_1,\n",
    "    aes(xmin = start, xmax = end, ymin = ymin, ymax = ymax, fill = domain_name_1),\n",
    "    inherit.aes = FALSE,\n",
    "    alpha = 0.8 # A bit more opaque for a solid bar look\n",
    "  ) +\n",
    "  \n",
    "  # Lollipops \n",
    "  geom_hline(yintercept = 0, color = \"gray40\") +\n",
    "  geom_segment(aes(xend = position, yend = 0), linewidth = 0.8) +\n",
    "  geom_point(aes(size = percentage), color = \"black\", fill = \"white\", shape = 21, stroke = 1.2) +\n",
    "  \n",
    "  # --- Place the labels inside the new bar ---\n",
    "  geom_text(\n",
    "    data = ns1_domains_ordered_df_1,\n",
    "    aes(x = start + (end - start) / 2, y = -4.5, label = \" \"), # Center text vertically in the bar\n",
    "    inherit.aes = FALSE,\n",
    "    size = 2.5, angle = 0, hjust = 0.5, color = \"black\", check_overlap = TRUE\n",
    "  ) +\n",
    "  \n",
    "  # --- Scales of the lollipop heads ---\n",
    "  scale_size_continuous(range = c(2, 10), name = \"Occurrence (%)\") +\n",
    "  scale_fill_manual(values = domain_colors_1, name = \"NS1 Protein Domain\") +\n",
    "  scale_x_continuous(limits = c(1, 352), name = \"Amino Acid Position (1-352)\", expand = c(0,0)) +\n",
    "  scale_y_continuous(name = \"Mutation Occurrence (%)\", limits = c(-10, 105), expand = c(0, 0)) +\n",
    "  \n",
    "  # --- Theming and Legend Fix ---\n",
    "  theme_classic(base_size = 14) +\n",
    "  theme(\n",
    "    panel.grid.major.y = element_line(color = \"gray85\", linetype = \"dashed\"),\n",
    "    axis.line.x = element_line(), # Add a solid x-axis line at y=0 for separation\n",
    "    axis.text.x = element_text(size = 12),\n",
    "    plot.title.position = \"plot\",\n",
    "    legend.position = \"right\"\n",
    "  ) +\n",
    "  # override.aes to match the legend to the bar's transparency\n",
    "  guides(fill = guide_legend(override.aes = list(alpha = 0.8), ncol = 1)) +\n",
    "  labs(\n",
    "    title = \"NS1 Mutation Hotspots of the DENV2 II_F1.1\",\n",
    "    subtitle = \"Frequency and position of non-synonymous mutations\"\n",
    "  )\n",
    "\n",
    "# Display the final plot\n",
    "print(ns1_plot_bar)\n",
    "# Save the plot\n",
    "ggsave(\n",
    "  \"NS1_hotspots_IIF1.1.png\",\n",
    "  plot = ns1_plot_bar, width = 12, height = 7, dpi = 600\n",
    ")"
   ]
  },
  {
   "cell_type": "code",
   "execution_count": null,
   "id": "1fa803ce",
   "metadata": {
    "vscode": {
     "languageId": "r"
    }
   },
   "outputs": [],
   "source": [
    "#lollipop plot of Sri Lankan DENV2  NS1 mutation occurence and frequency\n",
    "# --- Defining NS1 Domains with specific Y-coordinates for the bar ---\n",
    "ns1sl_domains_df <- tibble(\n",
    "  domain_name_1 = c(\"Beta-roll\",\"Wing connector-1\",\"Wing domain\", \"Wing connector-2\", \"Beta-ladder\",\"Spaghetti loop\", \"C-Terminus\"),\n",
    "  start = c( 1,30,30,152,181,219,278),\n",
    "  end =   c(29,37,180,180,352,279,352 ),\n",
    "  # --- Define the y-range for the bar ---\n",
    "  ymin = -8,\n",
    "  ymax = -1\n",
    ")\n",
    "\n",
    "domain_colors_1 <- c(\n",
    "  \"Beta-roll\" = \"#a6cee3\", \"Wing connector-1\" = \"#a56aed\", \"Wing domain\" = \"#de5ef2\",\n",
    "  \"Wing connector-2\" = \"#36f2e7\", \"Beta-ladder\"  = \"#f32957\", \"Spaghetti loop\" =\"#f4e709\",\n",
    "  \"C-Terminus\" = \"#0647f4\"\n",
    ")\n",
    "\n",
    "correct_domain_order_1 <- ns1sl_domains_df$domain_name_1\n",
    "ns1_domains_ordered_df_1 <- ns1sl_domains_df %>%\n",
    "  mutate(domain_name_1 = factor(domain_name_1, levels = correct_domain_order_1))\n",
    "\n",
    "\n",
    "# --- Step 4: Build the plot with the domain bar ---\n",
    "ns1sl_plot_bar <- ggplot(SL_NS1, aes(x = position, y = percentage)) +\n",
    "  \n",
    "  # --- CHANGE HERE: The rectangles are now drawn as a thin bar at the bottom ---\n",
    "  geom_rect(\n",
    "    data = ns1_domains_ordered_df_1,\n",
    "    aes(xmin = start, xmax = end, ymin = ymin, ymax = ymax, fill = domain_name_1),\n",
    "    inherit.aes = FALSE,\n",
    "    alpha = 0.8 # A bit more opaque for a solid bar look\n",
    "  ) +\n",
    "  \n",
    "  # Lollipops \n",
    "  geom_hline(yintercept = 0, color = \"gray40\") +\n",
    "  geom_segment(aes(xend = position, yend = 0), linewidth = 0.8) +\n",
    "  geom_point(aes(size = percentage), color = \"black\", fill = \"white\", shape = 21, stroke = 1.2) +\n",
    "  \n",
    "  # --- Place the labels inside the new bar ---\n",
    "  geom_text(\n",
    "    data = ns1_domains_ordered_df_1,\n",
    "    aes(x = start + (end - start) / 2, y = -4.5, label = \" \"), # Center text vertically in the bar\n",
    "    inherit.aes = FALSE,\n",
    "    size = 2.5, angle = 0, hjust = 0.5, color = \"black\", check_overlap = TRUE\n",
    "  ) +\n",
    "  \n",
    "  # --- Scales of the lollipop heads ---\n",
    "  scale_size_continuous(range = c(2, 10), name = \"Occurrence (%)\") +\n",
    "  scale_fill_manual(values = domain_colors_1, name = \"NS1 Protein Domain\") +\n",
    "  scale_x_continuous(limits = c(1, 352), name = \"Amino Acid Position (1-352)\", expand = c(0,0)) +\n",
    "  scale_y_continuous(name = \"Mutation Occurrence (%)\", limits = c(-10, 105), expand = c(0, 0)) +\n",
    "  \n",
    "  # --- Theming and Legend Fix ---\n",
    "  theme_classic(base_size = 14) +\n",
    "  theme(\n",
    "    panel.grid.major.y = element_line(color = \"gray85\", linetype = \"dashed\"),\n",
    "    axis.line.x = element_line(), # Add a solid x-axis line at y=0 for separation\n",
    "    axis.text.x = element_text(size = 12),\n",
    "    plot.title.position = \"plot\",\n",
    "    legend.position = \"right\"\n",
    "  ) +\n",
    "  # override.aes to match the legend to the bar's transparency\n",
    "  guides(fill = guide_legend(override.aes = list(alpha = 0.8), ncol = 1)) +\n",
    "  labs(\n",
    "    title = \"NS1 Mutation Hotspots of Sri Lankan DENV2 \",\n",
    "    subtitle = \"Frequency and position of non-synonymous mutations\"\n",
    "  )\n",
    "\n",
    "# Display the final plot\n",
    "print(ns1sl_plot_bar)\n",
    "\n",
    "# Save the plot\n",
    "ggsave(\n",
    "  \"NS1_hotspots_SL.png\",\n",
    "  plot = ns1sl_plot_bar, width = 12, height = 7, dpi = 600\n",
    ")"
   ]
  },
  {
   "cell_type": "code",
   "execution_count": null,
   "id": "9df33758",
   "metadata": {
    "vscode": {
     "languageId": "r"
    }
   },
   "outputs": [],
   "source": [
    "#Comparing ALL_E and SL_E mutations\n",
    "# Function to parse the mutation string into components\n",
    "parse_mutation_components <- function(df) {\n",
    "  matches <- str_match(df$mutation, \"^([A-Z]):([A-Z])([0-9]+)([A-Z])$\")\n",
    "  df %>%\n",
    "    mutate(\n",
    "      domain_parsed = matches[, 2],       # e.g., \"E\"\n",
    "      original_aa = matches[, 3],       # e.g., \"I\"\n",
    "      position = as.numeric(matches[, 4]), # e.g., 4\n",
    "      mutated_aa = matches[, 5]         # e.g., \"V\"\n",
    "    )\n",
    "}\n",
    "\n",
    "# Apply the parsing function to both data frames\n",
    "ALL_E_parsed <- parse_mutation_components(ALL_E)\n",
    "SL_E_parsed <- parse_mutation_components(SL_E)"
   ]
  },
  {
   "cell_type": "code",
   "execution_count": null,
   "id": "47dc61c1",
   "metadata": {
    "vscode": {
     "languageId": "r"
    }
   },
   "outputs": [],
   "source": [
    "#Comparing ALL_NS1 and SL_NS1 mutations\n",
    "# Function to parse the mutation string into components\n",
    "parse_mutation_components <- function(df) {\n",
    "  matches <- str_match(df$mutation, \"^(NS1):([A-Z])([0-9]+)([A-Z])$\")\n",
    "  df %>%\n",
    "    mutate(\n",
    "      domain_parsed = matches[, 2],       # e.g., \"E\"\n",
    "      original_aa = matches[, 3],       # e.g., \"I\"\n",
    "      position = as.numeric(matches[, 4]), # e.g., 4\n",
    "      mutated_aa = matches[, 5]         # e.g., \"V\"\n",
    "    )\n",
    "}\n",
    "\n",
    "# Apply the parsing function to both data frames\n",
    "ALL_NS1_parsed <- parse_mutation_components(ALL_NS1)\n",
    "SL_NS1_parsed <- parse_mutation_components(SL_NS1)"
   ]
  },
  {
   "cell_type": "code",
   "execution_count": null,
   "id": "7f3bcee2",
   "metadata": {
    "vscode": {
     "languageId": "r"
    }
   },
   "outputs": [],
   "source": [
    "# Find E mutations that are common to both datasets\n",
    "common_mutations <- inner_join(\n",
    "  ALL_E_parsed %>% select(mutation, domain, position, original_aa, mutated_aa, domain_parsed), # Select relevant columns to ensure accurate join\n",
    "  SL_E_parsed %>% select(mutation, domain, position, original_aa, mutated_aa, domain_parsed),\n",
    "  by = c(\"mutation\", \"domain\", \"position\", \"original_aa\", \"mutated_aa\", \"domain_parsed\") # Join by all parsed components for robustness\n",
    ") %>%\n",
    "  select(mutation, domain, position, original_aa, mutated_aa, domain_parsed) %>% # Select final output columns\n",
    "  distinct() # Ensure no accidental duplicates from join logic\n",
    "\n",
    "# save common E mutations\n",
    "print(\"Mutations in Common:\")\n",
    "print(common_mutations)\n",
    "write.csv(common_mutations,\"Common_mutations_E.csv\")\n"
   ]
  },
  {
   "cell_type": "code",
   "execution_count": null,
   "id": "ac89eef1",
   "metadata": {
    "vscode": {
     "languageId": "r"
    }
   },
   "outputs": [],
   "source": [
    "# Find NS1 mutations that are common to both datasets\n",
    "common_mutations_NS1 <- inner_join(\n",
    "  ALL_NS1_parsed %>% select(mutation, domain, position, original_aa, mutated_aa, domain_parsed), # Select relevant columns to ensure accurate join\n",
    "  SL_NS1_parsed %>% select(mutation, domain, position, original_aa, mutated_aa, domain_parsed),\n",
    "  by = c(\"mutation\", \"domain\", \"position\", \"original_aa\", \"mutated_aa\", \"domain_parsed\") # Join by all parsed components for robustness\n",
    ") %>%\n",
    "  select(mutation, domain, position, original_aa, mutated_aa, domain_parsed) %>% # Select final output columns\n",
    "  distinct() # Ensure no accidental duplicates from join logic\n",
    "\n",
    "# save common NS1 mutations\n",
    "print(\"NS1 Mutations in Common:\")\n",
    "print(common_mutations_NS1)\n",
    "write.csv(common_mutations_NS1,\"Common_mutations_NS1.csv\")"
   ]
  },
  {
   "cell_type": "code",
   "execution_count": null,
   "id": "c87c9019",
   "metadata": {
    "vscode": {
     "languageId": "r"
    }
   },
   "outputs": [],
   "source": [
    "# Find mutations present in ALL_E but NOT in SL_E\n",
    "diff_ALL_E_not_SL_E <- anti_join(\n",
    "  ALL_E_parsed,\n",
    "  SL_E_parsed,\n",
    "  by = c(\"mutation\", \"domain\", \"position\", \"original_aa\", \"mutated_aa\", \"domain_parsed\")\n",
    ") %>%\n",
    "  select(mutation, domain, position, original_aa, mutated_aa, domain_parsed)\n",
    "\n",
    "# Find mutations present in SL_E but NOT in ALL_E\n",
    "diff_SL_E_not_ALL_E <- anti_join(\n",
    "  SL_E_parsed,\n",
    "  ALL_E_parsed,\n",
    "  by = c(\"mutation\", \"domain\", \"position\", \"original_aa\", \"mutated_aa\", \"domain_parsed\")\n",
    ") %>%\n",
    "  select(mutation, domain, position, original_aa, mutated_aa, domain_parsed)\n",
    "\n",
    "# Display different mutations\n",
    "print(\"Mutations present only in ALL_E:\")\n",
    "print(diff_ALL_E_not_SL_E)\n",
    "\n",
    "print(\"Mutations present only in SL_E:\")\n",
    "print(diff_SL_E_not_ALL_E)\n",
    "write.csv(diff_SL_E_not_ALL_E,\"mutations_unique_SLE.csv\")"
   ]
  },
  {
   "cell_type": "code",
   "execution_count": null,
   "id": "fb064680",
   "metadata": {
    "vscode": {
     "languageId": "r"
    }
   },
   "outputs": [],
   "source": [
    "# Find mutations present in ALL_NS1 but NOT in SL_NS1\n",
    "diff_ALL_NS1_not_SL_NS1 <- anti_join(\n",
    "  ALL_NS1_parsed,\n",
    "  SL_NS1_parsed,\n",
    "  by = c(\"mutation\", \"domain\", \"position\", \"original_aa\", \"mutated_aa\", \"domain_parsed\")\n",
    ") %>%\n",
    "  select(mutation, domain, position, original_aa, mutated_aa, domain_parsed)\n",
    "\n",
    "# Find mutations present in SL_NS1 but NOT in ALL_NS1\n",
    "diff_SL_NS1_not_ALL_NS1 <- anti_join(\n",
    "  SL_NS1_parsed,\n",
    "  ALL_NS1_parsed,\n",
    "  by = c(\"mutation\", \"domain\", \"position\", \"original_aa\", \"mutated_aa\", \"domain_parsed\")\n",
    ") %>%\n",
    "  select(mutation, domain, position, original_aa, mutated_aa, domain_parsed)\n",
    "\n",
    "# Display different mutations\n",
    "print(\"Mutations present only in ALL_NS1:\")\n",
    "print(diff_ALL_NS1_not_SL_NS1)\n",
    "\n",
    "print(\"Mutations present only in SL_NS1:\")\n",
    "print(diff_SL_NS1_not_ALL_NS1)\n",
    "write.csv(diff_SL_NS1_not_ALL_NS1,\"mutations_unique_SLNS1.csv\")"
   ]
  },
  {
   "cell_type": "code",
   "execution_count": null,
   "id": "a3c2f338",
   "metadata": {
    "vscode": {
     "languageId": "r"
    }
   },
   "outputs": [],
   "source": [
    "# Calculate the count of mutations per domain in diff_SL_E_not_ALL_E\n",
    "domain_counts <- diff_SL_E_not_ALL_E %>%\n",
    "  group_by(domain) %>%\n",
    "  summarise(mutation_count = n()) %>%\n",
    "  ungroup() # Ungroup for cleaner output\n",
    "\n",
    "# Display the counts\n",
    "print(\"Count of mutations per domain in diff_SL_E_not_ALL_E:\")\n",
    "print(domain_counts)\n",
    "domain_counts_E <-diff_ALL_E_not_SL_E %>%\n",
    " group_by(domain)%>%\n",
    " summarise(mutation_count =n()) %>%\n",
    " ungroup()\n",
    " print(domain_counts_E)"
   ]
  },
  {
   "cell_type": "code",
   "execution_count": null,
   "id": "5de003a7",
   "metadata": {
    "vscode": {
     "languageId": "r"
    }
   },
   "outputs": [],
   "source": [
    "# Calculate the count of mutations per domain in diff_SL_E_not_ALL_E\n",
    "domain_counts_NS1 <- diff_SL_NS1_not_ALL_NS1 %>%\n",
    "  group_by(domain) %>%\n",
    "  summarise(mutation_count = n()) %>%\n",
    "  ungroup() # Ungroup for cleaner output\n",
    "\n",
    "# Display the counts\n",
    "print(\"Count of mutations unique to SL NS1 per domain :\")\n",
    "print(domain_counts_NS1)"
   ]
  },
  {
   "cell_type": "code",
   "execution_count": null,
   "id": "f0aed284",
   "metadata": {
    "vscode": {
     "languageId": "r"
    }
   },
   "outputs": [],
   "source": [
    "#No of mutations per domain II_F1.1 E\n",
    "# Make sure the tidyverse is loaded for the dplyr functions\n",
    "library(tidyverse)\n",
    "\n",
    "# --- Define the Total Number of Samples (The Denominator) ---\n",
    "total_samples <- 656\n",
    "\n",
    "\n",
    "# --- Analysis Pipeline ---\n",
    "domain_prevalence_summary <- ALL_E %>%\n",
    "  \n",
    "  # Step 1: Group by domain to aggregate all mutations within it.\n",
    "  group_by(domain) %>%\n",
    "  \n",
    "  # Step 2: Calculate the numerator for each domain.\n",
    "  # This is the total number of times mutations in this domain were observed.\n",
    "  # We also count the number of unique mutation types for context.\n",
    "  summarise(\n",
    "    number_of_unique_mutations = n(),\n",
    "    total_observations_in_domain = sum(n_samples_with_mutation),\n",
    "    .groups = \"drop\" # Ungroup for the next step\n",
    "  ) %>%\n",
    "  \n",
    "  # Step 3: Calculate the final prevalence percentage for each domain.\n",
    "  mutate(\n",
    "    # The numerator (sum of counts in the domain) is divided by the\n",
    "    # fixed total number of samples in the entire study.\n",
    "    prevalence_percentage = (total_observations_in_domain / total_samples) * 100,\n",
    "    \n",
    "    # (Optional) Create a nicely formatted string for display\n",
    "    percentage_display = sprintf(\"%.2f%%\", prevalence_percentage)\n",
    "  ) %>%\n",
    "  \n",
    "  # Step 4: Sort the results to see the most prevalent domains first.\n",
    "  arrange(desc(prevalence_percentage))\n",
    "\n",
    "# --- Print the Final Summary Table ---\n",
    "print(\"--- Summary of Mutation Prevalence Per Domain ---\")\n",
    "print(domain_prevalence_summary)\n",
    "\n",
    "\n",
    "\n"
   ]
  },
  {
   "cell_type": "code",
   "execution_count": null,
   "id": "d8938047",
   "metadata": {
    "vscode": {
     "languageId": "r"
    }
   },
   "outputs": [],
   "source": [
    "#mutations per domain in Sri Lankan samples E\n",
    "# --- 1. Calculate the Denominator: The Sum of All Mutation Frequencies ---\n",
    "# This represents the total mutation frequency across all unique mutations.\n",
    "total_mutation_frequency_SLE <- sum(SL_E$percentage)\n",
    "\n",
    "print(paste(\"Total sum of all mutation frequencies (%):\", total_mutation_frequency_SLE))\n",
    "\n",
    "\n",
    "# --- 2. Calculate Per-Domain Contribution to Total Frequency ---\n",
    "\n",
    "domain_frequency_summary_SLE <- SL_E %>%\n",
    "  \n",
    "  # Group by the domain to aggregate all mutations within each one\n",
    "  group_by(domain) %>%\n",
    "  \n",
    "  # Calculate the sum of percentages for each domain (the numerator)\n",
    "  # and also count the number of unique mutations for reference.\n",
    "  summarise(\n",
    "    number_of_unique_mutations = n(),\n",
    "    sum_of_percentages = sum(percentage),\n",
    "    .groups = \"drop\" # Drop grouping for the next step\n",
    "  ) %>%\n",
    "  \n",
    "  # Now, calculate the percentage contribution of each domain\n",
    "  mutate(\n",
    "    percentage_of_total_frequency = (sum_of_percentages / total_mutation_frequency_SLE) * 100,\n",
    "    \n",
    "    # (Optional) Create a nicely formatted string for display\n",
    "    percentage_display = sprintf(\"%.2f%%\", percentage_of_total_frequency)\n",
    "  ) %>%\n",
    "  \n",
    "  # Sort the final table by the contribution percentage\n",
    "  arrange(desc(percentage_of_total_frequency))\n",
    "\n",
    "# --- Print the Final Summary Table ---\n",
    "print(\"--- Summary of Domain Contribution to Total Mutation Frequency ---\")\n",
    "print(domain_frequency_summary_SLE)\n"
   ]
  },
  {
   "cell_type": "code",
   "execution_count": null,
   "id": "beb405ce",
   "metadata": {
    "vscode": {
     "languageId": "r"
    }
   },
   "outputs": [],
   "source": [
    "#mutations per domain in Sri Lankan samples NS1\n",
    "# --- 1. Calculate the Denominator: The Sum of All Mutation Frequencies ---\n",
    "# This represents the total mutation frequency across all unique mutations.\n",
    "total_mutation_frequency_SLNS1 <- sum(SL_NS1$percentage)\n",
    "\n",
    "print(paste(\"Total sum of all mutation frequencies (%):\", total_mutation_frequency_SLNS1))\n",
    "\n",
    "\n",
    "# --- 2. Calculate Per-Domain Contribution to Total Frequency ---\n",
    "\n",
    "domain_frequency_summary_SLNS1 <- SL_NS1 %>%\n",
    "  \n",
    "  # Group by the domain to aggregate all mutations within each one\n",
    "  group_by(domain) %>%\n",
    "  \n",
    "  # Calculate the sum of percentages for each domain (the numerator)\n",
    "  # and also count the number of unique mutations for reference.\n",
    "  summarise(\n",
    "    number_of_unique_mutations = n(),\n",
    "    sum_of_percentages = sum(percentage),\n",
    "    .groups = \"drop\" # Drop grouping for the next step\n",
    "  ) %>%\n",
    "  \n",
    "  # Now, calculate the percentage contribution of each domain\n",
    "  mutate(\n",
    "    percentage_of_total_frequency = (sum_of_percentages / total_mutation_frequency_SLNS1) * 100,\n",
    "    \n",
    "    # (Optional) Create a nicely formatted string for display\n",
    "    percentage_display = sprintf(\"%.2f%%\", percentage_of_total_frequency)\n",
    "  ) %>%\n",
    "  \n",
    "  # Sort the final table by the contribution percentage\n",
    "  arrange(desc(percentage_of_total_frequency))\n",
    "\n",
    "# --- Print the Final Summary Table ---\n",
    "print(\"--- Summary of Domain Contribution to Total Mutation Frequency ---\")\n",
    "print(domain_frequency_summary_SLNS1)\n"
   ]
  },
  {
   "cell_type": "code",
   "execution_count": null,
   "id": "91dbfb82",
   "metadata": {
    "vscode": {
     "languageId": "r"
    }
   },
   "outputs": [],
   "source": [
    "SL_NS1_mutation_matrix <- read.csv('/Users/dinukaariyaratne/Library/Mobile Documents/com~apple~CloudDocs/Desktop/PhD USJP/PhD_Thesis/DENV2 paper/SL_NS1_mutations_matrix.csv')\n",
    "SL_E_mutation_matrix <- read.csv ('/Users/dinukaariyaratne/Library/Mobile Documents/com~apple~CloudDocs/Desktop/PhD USJP/PhD_Thesis/DENV2 paper/SL_E_mutations_matrix.csv')"
   ]
  },
  {
   "cell_type": "code",
   "execution_count": null,
   "id": "02ec1d31",
   "metadata": {
    "vscode": {
     "languageId": "r"
    }
   },
   "outputs": [],
   "source": [
    "head(SL_NS1_mutation_matrix)\n"
   ]
  },
  {
   "cell_type": "code",
   "execution_count": null,
   "id": "54bfe9ea",
   "metadata": {
    "vscode": {
     "languageId": "r"
    }
   },
   "outputs": [],
   "source": [
    "#get mutation counts E SL\n",
    "total_mutation_count <- SL_E_mutation_matrix %>%\n",
    "  \n",
    "  # Step 1: Isolate the numeric mutation columns by removing the 'seqName' column.\n",
    "  # The minus sign (-) means \"exclude this column\".\n",
    "  select(-seqName) %>%\n",
    "  \n",
    "  # Step 2: Calculate the grand total by summing every element in the remaining data.\n",
    "  sum()\n",
    "\n",
    "# --- Print the Final Result ---\n",
    "print(paste(\"The total count of all mutations in all samples is:\", total_mutation_count))"
   ]
  },
  {
   "cell_type": "code",
   "execution_count": null,
   "id": "39bf698f",
   "metadata": {
    "vscode": {
     "languageId": "r"
    }
   },
   "outputs": [],
   "source": [
    "#get mutation counts NS1 SL\n",
    "total_mutation_count <- SL_NS1_mutation_matrix %>%\n",
    "  \n",
    "  # Step 1: Isolate the numeric mutation columns by removing the 'seqName' column.\n",
    "  # The minus sign (-) means \"exclude this column\".\n",
    "  select(-seqName) %>%\n",
    "  \n",
    "  # Step 2: Calculate the grand total by summing every element in the remaining data.\n",
    "  sum()\n",
    "\n",
    "# --- Print the Final Result ---\n",
    "print(paste(\"The total count of all mutations in all samples is:\", total_mutation_count))"
   ]
  },
  {
   "cell_type": "code",
   "execution_count": null,
   "id": "9df3197f",
   "metadata": {
    "vscode": {
     "languageId": "r"
    }
   },
   "outputs": [],
   "source": [
    "All_mutations_matrix <- read.csv('/Users/dinukaariyaratne/Library/Mobile Documents/com~apple~CloudDocs/Desktop/PhD USJP/PhD_Thesis/DENV2 paper/All_mutations.csv')\n",
    "head(All_mutations_matrix)"
   ]
  },
  {
   "cell_type": "code",
   "execution_count": null,
   "id": "18008260",
   "metadata": {
    "vscode": {
     "languageId": "r"
    }
   },
   "outputs": [],
   "source": [
    "# --- 1. Create the E Gene Matrix (ALL_E_matrix) ---\n",
    "\n",
    "ALL_E_matrix <- All_mutations_matrix %>%\n",
    "  \n",
    "  # Select the 'seqName' column AND all columns that start with \"E.\"\n",
    "  select(seqName, starts_with(\"E.\"))\n",
    "\n",
    "# --- 2. Create the NS1 Gene Matrix (ALL_NS1_matrix) ---\n",
    "\n",
    "ALL_NS1_matrix <- All_mutations_matrix %>%\n",
    "  \n",
    "  # Select the 'seqName' column AND all columns that start with \"NS1.\"\n",
    "  select(seqName, starts_with(\"NS1.\"))\n",
    "\n",
    "\n",
    "# --- 3. Save the New Matrices to .csv Files ---\n",
    "\n",
    "# Use readr::write_csv() to save the files to your current working directory.\n",
    "write_csv(ALL_E_matrix, \"ALL_E_matrix.csv\")\n",
    "write_csv(ALL_NS1_matrix, \"ALL_NS1_matrix.csv\")"
   ]
  },
  {
   "cell_type": "code",
   "execution_count": null,
   "id": "020aff11",
   "metadata": {
    "vscode": {
     "languageId": "r"
    }
   },
   "outputs": [],
   "source": [
    "#get mutation counts E II_F1.1\n",
    "total_mutation_count <- ALL_E_matrix %>%\n",
    "  \n",
    "  # Step 1: Isolate the numeric mutation columns by removing the 'seqName' column.\n",
    "  # The minus sign (-) means \"exclude this column\".\n",
    "  select(-seqName) %>%\n",
    "  \n",
    "  # Step 2: Calculate the grand total by summing every element in the remaining data.\n",
    "  sum()\n",
    "\n",
    "# --- Print the Final Result ---\n",
    "print(paste(\"The total count of all mutations in all samples is:\", total_mutation_count))"
   ]
  },
  {
   "cell_type": "code",
   "execution_count": null,
   "id": "d4239059",
   "metadata": {
    "vscode": {
     "languageId": "r"
    }
   },
   "outputs": [],
   "source": [
    "#get mutation counts NS1 II_F1.1\n",
    "total_mutation_count <- ALL_NS1_matrix %>%\n",
    "  \n",
    "  # Step 1: Isolate the numeric mutation columns by removing the 'seqName' column.\n",
    "  # The minus sign (-) means \"exclude this column\".\n",
    "  select(-seqName) %>%\n",
    "  \n",
    "  # Step 2: Calculate the grand total by summing every element in the remaining data.\n",
    "  sum()\n",
    "\n",
    "# --- Print the Final Result ---\n",
    "print(paste(\"The total count of all mutations in all samples is:\", total_mutation_count))"
   ]
  },
  {
   "cell_type": "code",
   "execution_count": null,
   "id": "7c887ef1",
   "metadata": {
    "vscode": {
     "languageId": "r"
    }
   },
   "outputs": [],
   "source": [
    "all_mutations <- read.csv('/Users/dinukaariyaratne/Library/Mobile Documents/com~apple~CloudDocs/Desktop/PhD USJP/PhD_Thesis/DENV2 paper/All_mutations.csv')"
   ]
  },
  {
   "cell_type": "code",
   "execution_count": null,
   "id": "e3ba1bd0",
   "metadata": {
    "vscode": {
     "languageId": "r"
    }
   },
   "outputs": [],
   "source": [
    "#filter Indian samples\n",
    "df_IN_DENV2 <- all_mutations %>%\n",
    "  filter(str_detect(seqName, \"India\"))\n",
    "\n",
    "# Verify the new subset by checking its first few rows\n",
    "# \n",
    "head(df_IN_DENV2)\n",
    "\n",
    "# \n",
    "# to see how many Indian sequences were found\n",
    "nrow(df_IN_DENV2)"
   ]
  },
  {
   "cell_type": "code",
   "execution_count": null,
   "id": "1e5d4cec",
   "metadata": {
    "vscode": {
     "languageId": "r"
    }
   },
   "outputs": [],
   "source": [
    "#Indian sequences E and NS1\n",
    "E_India_mutations_matrix <- df_IN_DENV2 %>%\n",
    "  select(seqName, contains(\"E.\"))\n",
    "NS1_India_mutations_matrix <- df_IN_DENV2 %>%\n",
    "  select(seqName, contains(\"NS1.\"))\n",
    "  head(E_India_mutations_matrix)\n",
    "  head(NS1_India_mutations_matrix)"
   ]
  },
  {
   "cell_type": "code",
   "execution_count": null,
   "id": "efd68097",
   "metadata": {
    "vscode": {
     "languageId": "r"
    }
   },
   "outputs": [],
   "source": [
    "# Define the total number of samples (sequences)\n",
    "total_samples <- nrow(E_India_mutations_matrix)\n",
    "\n",
    "# Calculate mutation frequencies\n",
    "E_India_freq_table <- E_India_mutations_matrix %>%\n",
    "  # 1. Select only the mutation columns\n",
    "  select(-seqName) %>%\n",
    "  \n",
    "  # 2. Calculate the sum (count) for each mutation column\n",
    "  summarise(across(everything(), sum)) %>%\n",
    "  \n",
    "  # 3. Pivot the data from wide to long format\n",
    "  # This creates one row for each mutation\n",
    "  pivot_longer(\n",
    "    cols = everything(),\n",
    "    names_to = \"Mutation\",\n",
    "    values_to = \"Count\"\n",
    "  ) %>%\n",
    "  \n",
    "  # 4. Calculate the frequency percentage\n",
    "  mutate(Frequency_Percent = (Count / total_samples) * 100) %>%\n",
    "  \n",
    "  # 5. Sort the table by frequency in descending order\n",
    "  arrange(desc(Frequency_Percent))\n",
    "\n",
    "# Print the resulting table\n",
    "print(\"--- E Region Mutation Frequencies in Indian F1.1 ---\")\n",
    "print(E_India_freq_table)\n"
   ]
  },
  {
   "cell_type": "code",
   "execution_count": null,
   "id": "edcd40db",
   "metadata": {
    "vscode": {
     "languageId": "r"
    }
   },
   "outputs": [],
   "source": [
    "# Define the total number of samples (sequences)\n",
    "total_samples_NS1 <- nrow(NS1_India_mutations_matrix)\n",
    "\n",
    "# Calculate mutation frequencies\n",
    "NS1_India_freq_table <- NS1_India_mutations_matrix %>%\n",
    "  # 1. Select only the mutation columns\n",
    "  select(-seqName) %>%\n",
    "  \n",
    "  # 2. Calculate the sum (count) for each mutation column\n",
    "  summarise(across(everything(), sum)) %>%\n",
    "  \n",
    "  # 3. Pivot the data from wide to long format\n",
    "  # This creates one row for each mutation\n",
    "  pivot_longer(\n",
    "    cols = everything(),\n",
    "    names_to = \"Mutation\",\n",
    "    values_to = \"Count\"\n",
    "  ) %>%\n",
    "  \n",
    "  # 4. Calculate the frequency percentage\n",
    "  mutate(Frequency_Percent = (Count / total_samples_NS1) * 100) %>%\n",
    "  \n",
    "  # 5. Sort the table by frequency in descending order\n",
    "  arrange(desc(Frequency_Percent))\n",
    "\n",
    "# Print the resulting table\n",
    "print(\"--- NS1Region Mutation Frequencies in Indian F1.1 ---\")\n",
    "print(NS1_India_freq_table)\n"
   ]
  },
  {
   "cell_type": "code",
   "execution_count": null,
   "id": "3295d20a",
   "metadata": {
    "vscode": {
     "languageId": "r"
    }
   },
   "outputs": [],
   "source": [
    "E_domains_df <- tibble(\n",
    "  domain_name_E = c(\"Domain Ia\", \"Domain Ib\", \"Domain Ic\", \"Fusion loop a\", \"Domain IIa\", \"Domain IIb\", \"Fusion loop b\", \"Domain III\", \"Stem\", \"Transmembrane\"),\n",
    "  start = c( 1, 131, 271, 70,  52, 192, 242, 299, 395, 450),\n",
    "  end   = c(51, 191, 298, 82, 130, 270, 248, 394, 449, 495)\n",
    ")\n",
    "\n",
    "# --- Analysis Pipeline ---\n",
    "\n",
    "total_samples <- nrow(E_India_mutations_matrix)\n",
    "\n",
    "E_India_freq_table_with_domains <- E_India_mutations_matrix %>%\n",
    "  select(-seqName) %>%\n",
    "  summarise(across(everything(), sum)) %>%\n",
    "  pivot_longer(\n",
    "    cols = everything(),\n",
    "    names_to = \"Mutation\",\n",
    "    values_to = \"Count\"\n",
    "  ) %>%\n",
    "  \n",
    "  # --- CORRECTED STEP ---\n",
    "  # 1. Use str_extract to find the number (as text). It will return NA if no number is found.\n",
    "  # 2. Use as.numeric to convert the text to a number. NA remains NA.\n",
    "  # This avoids the parsing failure warnings.\n",
    "  mutate(Position = as.numeric(str_extract(Mutation, \"\\\\d+\"))) %>%\n",
    "  \n",
    "  # The rest of the pipeline remains the same\n",
    "  left_join(E_domains_df, by = join_by(between(Position, start, end))) %>%\n",
    "  mutate(Frequency_Percent = (Count / total_samples) * 100) %>%\n",
    "  select(\n",
    "    Mutation,\n",
    "    Position,\n",
    "    Domain = domain_name_E,\n",
    "    Count,\n",
    "    Frequency_Percent\n",
    "  ) %>%\n",
    "  arrange(desc(Frequency_Percent))\n",
    "\n",
    "# Print the resulting table\n",
    "print(\"--- E Region Mutation Frequencies in Indian F1.1 (with Domains) ---\")\n",
    "print(E_India_freq_table_with_domains)"
   ]
  },
  {
   "cell_type": "code",
   "execution_count": null,
   "id": "5fcf93e6",
   "metadata": {
    "vscode": {
     "languageId": "r"
    }
   },
   "outputs": [],
   "source": [
    "\n",
    "# 2. Your NS1 domain definition data frame\n",
    "ns1_domains_df <- tibble(\n",
    "  domain_name_1 = c(\"Beta-roll\", \"Wing connector-1\", \"Wing domain\", \"Wing connector-2\", \"Beta-ladder\", \"Spaghetti loop\", \"C-Terminus\"),\n",
    "  start = c(1, 30, 38, 152, 181, 219, 278), # Adjusted Wing domain start to be non-overlapping\n",
    "  end   = c(29, 37, 180, 180, 352, 277, 352), # Adjusted Spaghetti loop end for clarity\n",
    "  ymin = -8,\n",
    "  ymax = -1\n",
    ")\n",
    "\n",
    "\n",
    "total_samples_ns1 <- nrow(NS1_India_mutations_matrix)\n",
    "\n",
    "NS1_India_freq_table_with_domains <- NS1_India_mutations_matrix %>%\n",
    "  select(-seqName) %>%\n",
    "  summarise(across(everything(), sum)) %>%\n",
    "  pivot_longer(\n",
    "    cols = everything(),\n",
    "    names_to = \"Mutation\",\n",
    "    values_to = \"Count\"\n",
    "  ) %>%\n",
    "  \n",
    " \n",
    "  mutate(Position = as.numeric(str_match(Mutation, \"NS1\\\\.[A-Z](\\\\d+)[A-Z]\")[, 2])) %>%\n",
    "  \n",
    "  # The rest of the pipeline remains the same\n",
    "  left_join(ns1_domains_df, by = join_by(between(Position, start, end))) %>%\n",
    "  mutate(Frequency_Percent = (Count / total_samples_ns1) * 100) %>%\n",
    "  select(\n",
    "    Mutation,\n",
    "    Position,\n",
    "    Domain = domain_name_1,\n",
    "    Count,\n",
    "    Frequency_Percent\n",
    "  ) %>%\n",
    "  arrange(desc(Frequency_Percent))\n",
    "\n",
    "# Print the resulting table\n",
    "print(\"--- NS1 Region Mutation Frequencies in Indian F1.1 (with Domains) ---\")\n",
    "print(NS1_India_freq_table_with_domains)"
   ]
  },
  {
   "cell_type": "code",
   "execution_count": null,
   "id": "f09cd78e",
   "metadata": {
    "vscode": {
     "languageId": "r"
    }
   },
   "outputs": [],
   "source": [
    "write.csv(E_India_freq_table_with_domains,\"India_E_mutations.csv\")\n",
    "write.csv(NS1_India_freq_table_with_domains,\"India_NS1_mutations.csv\")\n"
   ]
  },
  {
   "cell_type": "code",
   "execution_count": null,
   "id": "b2297f1a",
   "metadata": {
    "vscode": {
     "languageId": "r"
    }
   },
   "outputs": [],
   "source": [
    "df_E <- read.csv('/Users/dinukaariyaratne/Library/Mobile Documents/com~apple~CloudDocs/Desktop/PhD USJP/PhD_Thesis/DENV2 paper/E_ALL_SL_IN.csv')\n",
    "df_NS1 <- read.csv('/Users/dinukaariyaratne/Library/Mobile Documents/com~apple~CloudDocs/Desktop/PhD USJP/PhD_Thesis/DENV2 paper/NS1_ALL_SL_IN.csv')\n"
   ]
  },
  {
   "cell_type": "code",
   "execution_count": null,
   "id": "97c1d3ab",
   "metadata": {
    "vscode": {
     "languageId": "r"
    }
   },
   "outputs": [],
   "source": [
    "#Comparison of E mutations in all F1.1, Sri Lankan and Indian sequences\n",
    "library(tidyverse)\n",
    "# extract these columns into clean vectors, removing any NAs\n",
    "all_mutations <- na.omit(df_E$X...mutation_all)\n",
    "sl_mutations  <- na.omit(df_E$mutation_SL)\n",
    "india_mutations <- na.omit(df_E$mutation_India)\n",
    "\n",
    "# 1. Get a complete list of all unique mutations from all groups\n",
    "all_unique_mutations <- union(union(all_mutations, sl_mutations), india_mutations)\n",
    "\n",
    "# 2. Create a summary tibble\n",
    "comparison_df <- tibble(mutation = all_unique_mutations) %>%\n",
    "  mutate(\n",
    "    in_All = as.integer(mutation %in% all_mutations),\n",
    "    in_SL = as.integer(mutation %in% sl_mutations),\n",
    "    in_India = as.integer(mutation %in% india_mutations)\n",
    "  ) %>%\n",
    "  # Optional: Add a column that sums the occurrences\n",
    "  mutate(total_groups = in_All + in_SL + in_India) %>%\n",
    "  # Optional: Arrange to see the most shared mutations first\n",
    "  arrange(desc(total_groups))\n",
    "\n",
    "print(\"Comprehensive Summary Table:\")\n",
    "print(comparison_df)\n",
    "write.csv(comparison_df,\"E_mutations_comparison.csv\")"
   ]
  },
  {
   "cell_type": "code",
   "execution_count": null,
   "id": "9a51e0e6",
   "metadata": {
    "vscode": {
     "languageId": "r"
    }
   },
   "outputs": [],
   "source": [
    "#Comparison of NS1 mutations in all F1.1, Sri Lankan and Indian sequences\n",
    "library(tidyverse)\n",
    "# extract these columns into clean vectors, removing any NAs\n",
    "all_mutations_NS1 <- na.omit(df_NS1$X...mutation_all)\n",
    "sl_mutations_NS1  <- na.omit(df_NS1$mutation_SL)\n",
    "india_mutations_NS1 <- na.omit(df_NS1$mutation_India)\n",
    "\n",
    "# 1. Get a complete list of all unique mutations from all groups\n",
    "all_unique_mutations_NS1 <- union(union(all_mutations_NS1, sl_mutations_NS1), india_mutations_NS1)\n",
    "\n",
    "# 2. Create a summary tibble\n",
    "comparison_df_NS1 <- tibble(mutation = all_unique_mutations_NS1) %>%\n",
    "  mutate(\n",
    "    in_All = as.integer(mutation %in% all_mutations_NS1),\n",
    "    in_SL = as.integer(mutation %in% sl_mutations_NS1),\n",
    "    in_India = as.integer(mutation %in% india_mutations_NS1)\n",
    "  ) %>%\n",
    "  # Optional: Add a column that sums the occurrences\n",
    "  mutate(total_groups = in_All + in_SL + in_India) %>%\n",
    "  # Optional: Arrange to see the most shared mutations first\n",
    "  arrange(desc(total_groups))\n",
    "\n",
    "print(\"Comprehensive Summary Table:\")\n",
    "print(comparison_df_NS1)\n",
    "write.csv(comparison_df_NS1,\"NS1_mutations_comparison.csv\")"
   ]
  },
  {
   "cell_type": "code",
   "execution_count": null,
   "id": "e78e4971",
   "metadata": {
    "vscode": {
     "languageId": "r"
    }
   },
   "outputs": [],
   "source": [
    "#E mutations comparison\n",
    "#common to SL and India \n",
    "print(\"common to SL and India\")\n",
    "filter(comparison_df, in_SL == 1 , in_India == 1)\n",
    "#unique to India and Sri Lanka\n",
    "print(\"unique to only India and Sri Lanka\")\n",
    "filter(comparison_df, in_SL==1,in_India==1, in_All==0)\n",
    "#unique to SL compared to India\n",
    "print(\"unique to SL compared to India\")\n",
    "filter(comparison_df, in_SL==1, in_India==0)\n",
    "#totally unique to SL\n",
    "print(\"totally unique to SL\")\n",
    "filter(comparison_df, in_SL==1, in_India==0,in_All==0)"
   ]
  },
  {
   "cell_type": "code",
   "execution_count": null,
   "id": "5fa7d1d9",
   "metadata": {
    "vscode": {
     "languageId": "r"
    }
   },
   "outputs": [],
   "source": [
    "#NS1 mutations comparison\n",
    "#common to all\n",
    "print(\"common to all\")\n",
    "filter(comparison_df_NS1, in_SL == 1 , in_India == 1, in_All==1)\n",
    "#unique to India and Sri Lanka\n",
    "print(\"unique to only India and Sri Lanka\")\n",
    "filter(comparison_df_NS1, in_SL==1,in_India==1, in_All==0)\n",
    "#unique to SL compared to India\n",
    "print(\"unique to SL compared to India\")\n",
    "filter(comparison_df_NS1, in_SL==1, in_India==0)\n",
    "#totally unique to SL\n",
    "print(\"totally unique to SL\")\n",
    "filter(comparison_df_NS1, in_SL==1, in_India==0,in_All==0)\n",
    "#Totally unique to India\n",
    "print(\"totally unique to India\")\n",
    "filter(comparison_df_NS1, in_SL==0,in_India==1,in_All==0)"
   ]
  },
  {
   "cell_type": "code",
   "execution_count": null,
   "id": "5abe6be0",
   "metadata": {
    "vscode": {
     "languageId": "r"
    }
   },
   "outputs": [],
   "source": [
    "e_domains_df <- tibble(\n",
    "  domain_name = c(\"Domain Ia\",\"Domain IIa\", \"Domain Ib\", \"Domain IIb\", \"Domain Ic\",\"Domain III\", \"Stem\",\"Transmembrane\"),\n",
    "  start       = c(1,  53, 132,193,272,300,395,450),\n",
    "  end         = c(52,131,192,271,299,394,449,495)\n",
    ")\n",
    "\n",
    "# --- Step 1: Prepare Data for Heatmap Tiles (Your code here was correct) ---\n",
    "\n",
    "heatmap_tiles <- comparison_df %>%\n",
    "  select(mutation, `SL Clade` = in_SL,`India clade`=in_India, `F1.1 Clade` = in_All) %>%\n",
    "  mutate(Position = as.numeric(str_match(mutation, \"[A-Z]:[A-Z](\\\\d+)[A-Z]\")[, 2])) %>%\n",
    "  filter(!is.na(Position)) %>%\n",
    "  pivot_longer(\n",
    "    cols = c(`SL Clade`,`India clade`, `F1.1 Clade`),\n",
    "    names_to = \"Clade\",\n",
    "    values_to = \"Status\"\n",
    "  ) %>%\n",
    "  filter(Status == 1)\n",
    "\n",
    "# --- Step 2: Prepare Data for Domain Annotation Layer ---\n",
    "# This code now works because e_domains_df is a proper data frame.\n",
    "domain_annotations <- e_domains_df %>%\n",
    "  mutate(\n",
    "    midpoint = start + (end - start) / 2,\n",
    "    fill_factor = factor(row_number() %% 2)\n",
    "  )\n",
    "\n",
    "# --- Step 3: Build the Advanced Plot ---\n",
    "\n",
    "domain_y_min <- 0.3\n",
    "domain_y_max <- 0.7\n",
    "\n",
    "ggplot() +\n",
    "  geom_rect(\n",
    "    data = domain_annotations,\n",
    "    aes(xmin = start, xmax = end, ymin = domain_y_min, ymax = domain_y_max, fill = fill_factor),\n",
    "    alpha = 0.5\n",
    "  ) +\n",
    "  # --- FIX 2: Correct column name for the label ---\n",
    "  # The aes call for geom_text now correctly finds the 'domain_name' column.\n",
    "  geom_text(\n",
    "    data = domain_annotations,\n",
    "    aes(x = midpoint, y = (domain_y_min + domain_y_max) / 2, label = domain_name),\n",
    "    size = 2,\n",
    "    color = \"black\"\n",
    "  ) +\n",
    "  geom_tile(\n",
    "    data = heatmap_tiles,\n",
    "    aes(x = Position, y = Clade),\n",
    "    fill = \"darkblue\",\n",
    "    height = 0.5,\n",
    "    width = 1.5\n",
    "  ) +\n",
    "  scale_fill_manual(values = c(\"gray80\", \"gray65\"), guide = \"none\") +\n",
    "  # --- FIX 3: Correctly access the 'end' column ---\n",
    "  # This now works because e_domains_df is a data frame with an 'end' column.\n",
    "  scale_x_continuous(\n",
    "    breaks = seq(0, max(e_domains_df$end, na.rm = TRUE) + 10, by = 10),\n",
    "    expand = c(0.01, 0.01)\n",
    "  ) +\n",
    "  scale_y_discrete(expand = expansion(add = c(0.8, 0.2))) +\n",
    "  theme_minimal() +\n",
    "  labs(\n",
    "    title = \"Positional Comparison of Mutations in E Protein\",\n",
    "    subtitle = \"Comparing SL,Indian  and F1.1 Clades\",\n",
    "    x = \"Amino Acid Position\",\n",
    "    y = \"\"\n",
    "  ) +\n",
    "  theme(\n",
    "    panel.grid.major.y = element_blank(),\n",
    "    panel.grid.minor.x = element_blank(),\n",
    "    axis.text.x = element_text(angle = 90, vjust = 0.5, size = 8)\n",
    "  )\n"
   ]
  },
  {
   "cell_type": "code",
   "execution_count": null,
   "id": "5b78c7c5",
   "metadata": {
    "vscode": {
     "languageId": "r"
    }
   },
   "outputs": [],
   "source": [
    "comparison_df_NS1_clean <-read.csv('/Users/dinukaariyaratne/Library/Mobile Documents/com~apple~CloudDocs/Desktop/PhD USJP/PhD_Thesis/DENV2 paper/NS1_mutations_comparison.csv')\n",
    "#NS1 comparison heatmap\n",
    "NS1_domains_df <- tibble(\n",
    "  domain_name_NS1 = c(\"Beta-roll\",\"Wing domain\",  \"Beta-ladder\"),\n",
    "  start = c( 1, 30,181),\n",
    "  end =   c(29,180,352),\n",
    ")\n",
    "\n",
    "# --- Step 1: Prepare Data for Heatmap Tiles (Your code here was correct) ---\n",
    "\n",
    "heatmap_tiles_NS1 <- comparison_df_NS1_clean %>%\n",
    "  select(mutation, `SL Clade` = in_SL,`India clade`=in_India, `F1.1 Clade` = in_All) %>%\n",
    "  mutate(Position = as.numeric(str_match(mutation, \"NS1:[A-Z](\\\\d+)[A-Z]\")[, 2])) %>%\n",
    "  filter(!is.na(Position)) %>%\n",
    "  pivot_longer(\n",
    "    cols = c(`SL Clade`,`India clade`, `F1.1 Clade`),\n",
    "    names_to = \"Clade\",\n",
    "    values_to = \"Status\"\n",
    "  ) %>%\n",
    "  filter(Status == 1)\n",
    "\n",
    "# --- Step 2: Prepare Data for Domain Annotation Layer ---\n",
    "# This code now works because e_domains_df is a proper data frame.\n",
    "domain_annotations <- NS1_domains_df %>%\n",
    "  mutate(\n",
    "    midpoint = start + (end - start) / 2,\n",
    "    fill_factor = factor(row_number() %% 2)\n",
    "  )\n",
    "\n",
    "# --- Step 3: Build the Advanced Plot ---\n",
    "\n",
    "domain_y_min <- 0.3\n",
    "domain_y_max <- 0.7\n",
    "\n",
    "ggplot() +\n",
    "  geom_rect(\n",
    "    data = domain_annotations,\n",
    "    aes(xmin = start, xmax = end, ymin = domain_y_min, ymax = domain_y_max, fill = fill_factor),\n",
    "    alpha = 0.5\n",
    "  ) +\n",
    "  # --- FIX 2: Correct column name for the label ---\n",
    "  # The aes call for geom_text now correctly finds the 'domain_name' column.\n",
    "  geom_text(\n",
    "    data = domain_annotations,\n",
    "    aes(x = midpoint, y = (domain_y_min + domain_y_max) / 2, label = domain_name_NS1),\n",
    "    size = 2,\n",
    "    color = \"black\"\n",
    "  ) +\n",
    "  geom_tile(\n",
    "    data = heatmap_tiles_NS1,\n",
    "    aes(x = Position, y = Clade),\n",
    "    fill = \"darkblue\",\n",
    "    height = 0.5,\n",
    "    width = 1.5\n",
    "  ) +\n",
    "  scale_fill_manual(values = c(\"gray80\", \"gray65\"), guide = \"none\") +\n",
    "  # --- FIX 3: Correctly access the 'end' column ---\n",
    "  # This now works because e_domains_df is a data frame with an 'end' column.\n",
    "  scale_x_continuous(\n",
    "    breaks = seq(0, max(NS1_domains_df$end, na.rm = TRUE) + 10, by = 10),\n",
    "    expand = c(0.01, 0.01)\n",
    "  ) +\n",
    "  scale_y_discrete(expand = expansion(add = c(0.8, 0.2))) +\n",
    "  theme_minimal() +\n",
    "  labs(\n",
    "    title = \"Positional Comparison of Mutations in NS1 Protein\",\n",
    "    subtitle = \"Comparing Sri Lanka, India and the total F1.1 Clade\",\n",
    "    x = \"Amino Acid Position\",\n",
    "    y = \"\"\n",
    "  ) +\n",
    "  theme(\n",
    "    panel.grid.major.y = element_blank(),\n",
    "    panel.grid.minor.x = element_blank(),\n",
    "    axis.text.x = element_text(angle = 90, vjust = 0.5, size = 8)\n",
    "  )"
   ]
  }
 ],
 "metadata": {
  "kernelspec": {
   "display_name": "R",
   "language": "R",
   "name": "ir"
  },
  "language_info": {
   "codemirror_mode": "r",
   "file_extension": ".r",
   "mimetype": "text/x-r-source",
   "name": "R",
   "pygments_lexer": "r",
   "version": "4.4.2"
  }
 },
 "nbformat": 4,
 "nbformat_minor": 5
}
